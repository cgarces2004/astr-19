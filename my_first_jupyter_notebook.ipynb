{
 "cells": [
  {
   "cell_type": "code",
   "execution_count": null,
   "id": "ea14ea9c-f52c-4783-b4c3-cf23879bd891",
   "metadata": {},
   "outputs": [],
   "source": [
    "import numpy as np"
   ]
  },
  {
   "cell_type": "code",
   "execution_count": null,
   "id": "487431c6-e8f1-4235-af24-d2c2d428e7f7",
   "metadata": {},
   "outputs": [],
   "source": [
    "def sin_x(x):\n",
    "    return np.sin(x)"
   ]
  },
  {
   "cell_type": "code",
   "execution_count": null,
   "id": "bcdc4fa5-48d8-4886-84f9-0b2e4664618a",
   "metadata": {},
   "outputs": [],
   "source": [
    "def cos_x(x):\n",
    "    return np.cos(x)"
   ]
  },
  {
   "cell_type": "code",
   "execution_count": null,
   "id": "63146d20-3967-43cc-92eb-9a09baf4eaff",
   "metadata": {},
   "outputs": [],
   "source": [
    "x = values = np.linsapce(0,2,1000)\n",
    "sin_values = [sin_x(x) for x in x_values]\n",
    "cos_values = [cos_x(x) for x in x_values]"
   ]
  },
  {
   "cell_type": "code",
   "execution_count": null,
   "id": "240f5863-bb53-4e43-820c-3d673536720c",
   "metadata": {},
   "outputs": [],
   "source": [
    "for i in range(10):\n",
    "    print(f\"{x_values[i]:<10} {sin_values[i]:<10} {cos_values[i]:<10}\")"
   ]
  }
 ],
 "metadata": {
  "kernelspec": {
   "display_name": "Python 3 (ipykernel)",
   "language": "python",
   "name": "python3"
  },
  "language_info": {
   "codemirror_mode": {
    "name": "ipython",
    "version": 3
   },
   "file_extension": ".py",
   "mimetype": "text/x-python",
   "name": "python",
   "nbconvert_exporter": "python",
   "pygments_lexer": "ipython3",
   "version": "3.12.1"
  }
 },
 "nbformat": 4,
 "nbformat_minor": 5
}
